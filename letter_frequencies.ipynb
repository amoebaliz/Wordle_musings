{
 "cells": [
  {
   "cell_type": "code",
   "execution_count": 10,
   "metadata": {},
   "outputs": [],
   "source": [
    "import numpy as np\n",
    "import matplotlib.pyplot as plt\n",
    "import pandas as pd"
   ]
  },
  {
   "cell_type": "code",
   "execution_count": 11,
   "metadata": {},
   "outputs": [],
   "source": [
    "df = pd.read_csv('5_letter_words_esl.csv')\n",
    "alphabet = ['a','b','c','d','e','f','g','h','i','j','k','l','m','n','o','p','q','r','s','t','u','v','w','x','y','z']"
   ]
  },
  {
   "cell_type": "code",
   "execution_count": 12,
   "metadata": {},
   "outputs": [
    {
     "data": {
      "text/html": [
       "<div>\n",
       "<style scoped>\n",
       "    .dataframe tbody tr th:only-of-type {\n",
       "        vertical-align: middle;\n",
       "    }\n",
       "\n",
       "    .dataframe tbody tr th {\n",
       "        vertical-align: top;\n",
       "    }\n",
       "\n",
       "    .dataframe thead th {\n",
       "        text-align: right;\n",
       "    }\n",
       "</style>\n",
       "<table border=\"1\" class=\"dataframe\">\n",
       "  <thead>\n",
       "    <tr style=\"text-align: right;\">\n",
       "      <th></th>\n",
       "      <th>5_letter_words</th>\n",
       "    </tr>\n",
       "  </thead>\n",
       "  <tbody>\n",
       "    <tr>\n",
       "      <th>0</th>\n",
       "      <td>aback</td>\n",
       "    </tr>\n",
       "    <tr>\n",
       "      <th>1</th>\n",
       "      <td>abase</td>\n",
       "    </tr>\n",
       "    <tr>\n",
       "      <th>2</th>\n",
       "      <td>abate</td>\n",
       "    </tr>\n",
       "    <tr>\n",
       "      <th>3</th>\n",
       "      <td>abaya</td>\n",
       "    </tr>\n",
       "    <tr>\n",
       "      <th>4</th>\n",
       "      <td>abbey</td>\n",
       "    </tr>\n",
       "    <tr>\n",
       "      <th>...</th>\n",
       "      <td>...</td>\n",
       "    </tr>\n",
       "    <tr>\n",
       "      <th>2494</th>\n",
       "      <td>young</td>\n",
       "    </tr>\n",
       "    <tr>\n",
       "      <th>2495</th>\n",
       "      <td>yours</td>\n",
       "    </tr>\n",
       "    <tr>\n",
       "      <th>2496</th>\n",
       "      <td>youth</td>\n",
       "    </tr>\n",
       "    <tr>\n",
       "      <th>2497</th>\n",
       "      <td>yummy</td>\n",
       "    </tr>\n",
       "    <tr>\n",
       "      <th>2498</th>\n",
       "      <td>zones</td>\n",
       "    </tr>\n",
       "  </tbody>\n",
       "</table>\n",
       "<p>2499 rows × 1 columns</p>\n",
       "</div>"
      ],
      "text/plain": [
       "     5_letter_words\n",
       "0             aback\n",
       "1             abase\n",
       "2             abate\n",
       "3             abaya\n",
       "4             abbey\n",
       "...             ...\n",
       "2494          young\n",
       "2495          yours\n",
       "2496          youth\n",
       "2497          yummy\n",
       "2498          zones\n",
       "\n",
       "[2499 rows x 1 columns]"
      ]
     },
     "execution_count": 12,
     "metadata": {},
     "output_type": "execute_result"
    }
   ],
   "source": [
    "df"
   ]
  },
  {
   "cell_type": "code",
   "execution_count": 16,
   "metadata": {},
   "outputs": [
    {
     "name": "stdout",
     "output_type": "stream",
     "text": [
      "Most Common:\n",
      "   First Letter: c\n",
      "   Second Letter: o\n",
      "   Third Letter: a\n",
      "   Fourth Letter: e\n",
      "   Fifth Letter: s\n"
     ]
    }
   ],
   "source": [
    "labels = ['First','Second','Third', 'Fourth', 'Fifth']\n",
    "print('Most Common:')\n",
    "\n",
    "for nlabel, nletter in zip(labels, range(5)):\n",
    "    print(('   ' + nlabel + ' Letter: ' + df['5_letter_words'][:].str[nletter].value_counts().idxmax()))\n",
    "    #print(df['5_letter_words'][:].str[nletter].value_counts())"
   ]
  },
  {
   "cell_type": "code",
   "execution_count": 43,
   "metadata": {},
   "outputs": [
    {
     "name": "stdout",
     "output_type": "stream",
     "text": [
      "Most Common Letters:\n",
      " First Letter \n",
      "z    1\n",
      "Name: 5_letter_words, dtype: int64\n",
      " Second Letter \n",
      "y    1\n",
      "Name: 5_letter_words, dtype: int64\n",
      " Third Letter \n",
      "m    1\n",
      "Name: 5_letter_words, dtype: int64\n",
      " Fourth Letter \n",
      "i    1\n",
      "Name: 5_letter_words, dtype: int64\n",
      " Fifth Letter \n",
      "c    1\n",
      "Name: 5_letter_words, dtype: int64\n"
     ]
    }
   ],
   "source": [
    "labels = ['First','Second','Third', 'Fourth', 'Fifth']\n",
    "print('Most Common Letters:')\n",
    "\n",
    "for nlabel, nletter in zip(labels, range(5)):\n",
    "    print((' ' + nlabel + ' Letter '))\n",
    "    print(df['5_letter_words'][:].str[nletter].value_counts())"
   ]
  },
  {
   "cell_type": "markdown",
   "metadata": {},
   "source": [
    "## Number of words that contain a given letter (omits duplicates)"
   ]
  },
  {
   "cell_type": "code",
   "execution_count": 14,
   "metadata": {},
   "outputs": [
    {
     "name": "stdout",
     "output_type": "stream",
     "text": [
      "a: 1036 words\n",
      "b: 477 words\n",
      "c: 622 words\n",
      "d: 612 words\n",
      "e: 1230 words\n",
      "f: 245 words\n",
      "g: 232 words\n",
      "h: 311 words\n",
      "i: 659 words\n",
      "j: 20 words\n",
      "k: 215 words\n",
      "l: 623 words\n",
      "m: 272 words\n",
      "n: 510 words\n",
      "o: 741 words\n",
      "p: 285 words\n",
      "q: 14 words\n",
      "r: 811 words\n",
      "s: 1051 words\n",
      "t: 622 words\n",
      "u: 391 words\n",
      "v: 130 words\n",
      "w: 162 words\n",
      "x: 57 words\n",
      "y: 280 words\n",
      "z: 35 words\n"
     ]
    }
   ],
   "source": [
    "letter_series = df.squeeze()\n",
    "count_store = []\n",
    "for nletter in alphabet:\n",
    "    count_store = np.append(count_store,np.sum(letter_series.str.contains(nletter,regex=False)))  \n",
    "    print((nletter+ ': ' + str(np.sum(letter_series.str.contains(nletter,regex=False))) + ' words'))\n"
   ]
  },
  {
   "cell_type": "code",
   "execution_count": 7,
   "metadata": {},
   "outputs": [
    {
     "data": {
      "text/plain": [
       "[<matplotlib.lines.Line2D at 0x7fddddd0d210>]"
      ]
     },
     "execution_count": 7,
     "metadata": {},
     "output_type": "execute_result"
    },
    {
     "data": {
      "image/png": "[encoded data removed]",
      "text/plain": [
       "<Figure size 1440x360 with 1 Axes>"
      ]
     },
     "metadata": {
      "needs_background": "light"
     },
     "output_type": "display_data"
    }
   ],
   "source": [
    "#Plotting\n",
    "fig, ax = plt.subplots(figsize=(20,5))\n",
    "bar_plot = ax.bar(np.arange(len(alphabet)),count_store,width=0.9, align='center',color='forestgreen',alpha=.4,edgecolor='mediumblue')\n",
    "xtick_positions = ax.set_xticks(np.arange(len(alphabet)))\n",
    "ax.set_xlim(-0.6,25.6)\n",
    "tick_labels = ax.set_xticklabels(alphabet)\n",
    "ax.set_ylabel('Number of 5-Letter Words\\nContaining a Given Letter',fontsize=20,labelpad=7)\n",
    "ax.tick_params(axis='both', which='major', labelsize=14)\n",
    "ax.plot([-0.6,25.6],800*np.ones(2),color='mediumpurple')\n"
   ]
  },
  {
   "cell_type": "markdown",
   "metadata": {},
   "source": [
    "## Total number of occurrences of a given letter across all words (includes duplicates)"
   ]
  },
  {
   "cell_type": "code",
   "execution_count": 8,
   "metadata": {},
   "outputs": [
    {
     "name": "stdout",
     "output_type": "stream",
     "text": [
      "a: 1115\n",
      "b: 505\n",
      "c: 665\n",
      "d: 660\n",
      "e: 1416\n",
      "f: 264\n",
      "g: 241\n",
      "h: 315\n",
      "i: 675\n",
      "j: 20\n",
      "k: 217\n",
      "l: 697\n",
      "m: 279\n",
      "n: 534\n",
      "o: 827\n",
      "p: 299\n",
      "q: 14\n",
      "r: 850\n",
      "s: 1166\n",
      "t: 663\n",
      "u: 396\n",
      "v: 134\n",
      "w: 163\n",
      "x: 57\n",
      "y: 284\n",
      "z: 39\n"
     ]
    }
   ],
   "source": [
    "count_store = []\n",
    "for nletter in alphabet:\n",
    "    count_store = np.append(count_store,np.sum(letter_series.str.count(nletter)))\n",
    "    print((nletter + ': ' + str(np.sum(letter_series.str.count(nletter)))))"
   ]
  },
  {
   "cell_type": "code",
   "execution_count": 9,
   "metadata": {},
   "outputs": [
    {
     "data": {
      "text/plain": [
       "[<matplotlib.lines.Line2D at 0x7fddddedb290>]"
      ]
     },
     "execution_count": 9,
     "metadata": {},
     "output_type": "execute_result"
    },
    {
     "data": {
      "image/png": "[encoded data removed]",
      "text/plain": [
       "<Figure size 1440x360 with 1 Axes>"
      ]
     },
     "metadata": {
      "needs_background": "light"
     },
     "output_type": "display_data"
    }
   ],
   "source": [
    "#Plotting\n",
    "fig, ax = plt.subplots(figsize=(20,5))\n",
    "bar_plot = ax.bar(np.arange(len(alphabet)),count_store,width=0.9, align='center',color='mediumpurple',alpha=.7,edgecolor='mediumblue')\n",
    "xtick_positions = ax.set_xticks(np.arange(len(alphabet)))\n",
    "ax.set_xlim(-0.6,25.6)\n",
    "tick_labels = ax.set_xticklabels(alphabet)\n",
    "ax.set_ylabel('Number of Occurances \\n in All 5-Letter Words',fontsize=20,labelpad=7)\n",
    "ax.tick_params(axis='both', which='major', labelsize=14)\n",
    "ax.plot([-0.6,25.6],800*np.ones(2),color='mediumpurple')\n"
   ]
  },
  {
   "cell_type": "code",
   "execution_count": null,
   "metadata": {},
   "outputs": [],
   "source": []
  }
 ],
 "metadata": {
  "kernelspec": {
   "display_name": "Python 3",
   "language": "python",
   "name": "python3"
  },
  "language_info": {
   "codemirror_mode": {
    "name": "ipython",
    "version": 3
   },
   "file_extension": ".py",
   "mimetype": "text/x-python",
   "name": "python",
   "nbconvert_exporter": "python",
   "pygments_lexer": "ipython3",
   "version": "3.7.7"
  }
 },
 "nbformat": 4,
 "nbformat_minor": 4
}
